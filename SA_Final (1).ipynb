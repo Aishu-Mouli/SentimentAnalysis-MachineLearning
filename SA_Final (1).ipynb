{
 "cells": [
  {
   "cell_type": "markdown",
   "source": "Need to apply NLP techniques in order to clean the data and train model in order to perform rating prediction  ",
   "metadata": {
    "tags": [],
    "cell_id": "00001-5725dea3-4423-4289-99f0-141b3fc7b12a",
    "deepnote_cell_type": "markdown"
   }
  },
  {
   "cell_type": "markdown",
   "source": "LOGISTIC REGRESSION",
   "metadata": {
    "tags": [],
    "cell_id": "00001-a64b02ba-93c6-425d-a192-b228492b7c96",
    "deepnote_cell_type": "markdown"
   }
  },
  {
   "cell_type": "code",
   "metadata": {
    "cell_id": "00001-803e09d4-5b88-4a6e-afbb-202e2319be14",
    "deepnote_to_be_reexecuted": false,
    "source_hash": "cc4b0dae",
    "execution_start": 1628508770807,
    "execution_millis": 5693,
    "deepnote_cell_type": "code"
   },
   "source": "#load required libraries ML: pandas,numpy and logistic regression reqiured. rest for deep learning\n\nimport pandas as pd\nimport numpy as np\nfrom wordcloud import WordCloud\n\nimport matplotlib.pyplot as plt\nfrom tensorflow.python.keras import models, layers, optimizers\nimport tensorflow\nfrom tensorflow.keras.preprocessing.text import Tokenizer, text_to_word_sequence\nfrom tensorflow.keras.preprocessing.sequence import pad_sequences\nimport bz2\nfrom sklearn.metrics import f1_score, roc_auc_score, accuracy_score\nimport re\n\n%matplotlib inline\n\n\n",
   "execution_count": 1,
   "outputs": [
    {
     "name": "stderr",
     "text": "2021-08-09 11:32:51.317469: W tensorflow/stream_executor/platform/default/dso_loader.cc:60] Could not load dynamic library 'libcudart.so.11.0'; dlerror: libcudart.so.11.0: cannot open shared object file: No such file or directory\n2021-08-09 11:32:51.317507: I tensorflow/stream_executor/cuda/cudart_stub.cc:29] Ignore above cudart dlerror if you do not have a GPU set up on your machine.\n",
     "output_type": "stream"
    }
   ]
  },
  {
   "cell_type": "code",
   "metadata": {
    "cell_id": "00002-5b1d8a1b-d96a-49da-8b71-4ab84e45b20b",
    "deepnote_to_be_reexecuted": false,
    "source_hash": "c4c8af8",
    "execution_start": 1628508776504,
    "execution_millis": 7,
    "deepnote_cell_type": "code"
   },
   "source": "#create a ffunction to load the text and labels from train and test set",
   "execution_count": 2,
   "outputs": []
  },
  {
   "cell_type": "code",
   "metadata": {
    "cell_id": "00003-2744cbb1-941a-4285-97d6-a46a43873e7d",
    "deepnote_to_be_reexecuted": false,
    "source_hash": "3fca00ce",
    "execution_start": 1628508776516,
    "execution_millis": 104721,
    "deepnote_cell_type": "code"
   },
   "source": "def get_labels_and_texts(file):\n    labels = []  #initialise empty lists\n    texts = []\n    for line in bz2.BZ2File(file):  \n        x = line.decode(\"utf-8\")     #extract 1 line from the file and store it in variable x. x now has line with labels and text\n        labels.append(int(x[9]) - 1)  #extract label convert to integer append it to labels list\n        texts.append(x[10:].strip())  #extract text  \"\"\n    return np.array(labels), texts    #convert labels to numpy array and \n\n#call function\ntrain_labels, train_texts = get_labels_and_texts('train.ft.txt.bz2') #extract label and text from training data set\ntest_labels, test_texts = get_labels_and_texts('test.ft.txt.bz2')    #extract labels and text from test data set\n\n",
   "execution_count": 3,
   "outputs": []
  },
  {
   "cell_type": "code",
   "metadata": {
    "cell_id": "00004-9514af7d-f15d-410c-97e1-76caaca050a3",
    "deepnote_to_be_reexecuted": false,
    "source_hash": "a0105ca0",
    "execution_start": 1628508881261,
    "execution_millis": 11,
    "deepnote_cell_type": "code"
   },
   "source": "#EXAMPLE SEE FIRST LABEL\ntrain_labels[0]",
   "execution_count": 4,
   "outputs": [
    {
     "output_type": "execute_result",
     "execution_count": 4,
     "data": {
      "text/plain": "1"
     },
     "metadata": {}
    }
   ]
  },
  {
   "cell_type": "code",
   "metadata": {
    "cell_id": "00005-ef3fa731-0f86-40d8-8a3c-15af998b9692",
    "deepnote_to_be_reexecuted": false,
    "source_hash": "b2e637a4",
    "execution_start": 1628508881262,
    "execution_millis": 10,
    "deepnote_cell_type": "code"
   },
   "source": "# 1 means positive 0 means negative review lets see what actually the review was\ntrain_texts[0]",
   "execution_count": 5,
   "outputs": [
    {
     "output_type": "execute_result",
     "execution_count": 5,
     "data": {
      "text/plain": "'Stuning even for the non-gamer: This sound track was beautiful! It paints the senery in your mind so well I would recomend it even to people who hate vid. game music! I have played the game Chrono Cross but out of all of the games I have ever played it has the best music! It backs away from crude keyboarding and takes a fresher step with grate guitars and soulful orchestras. It would impress anyone who cares to listen! ^_^'"
     },
     "metadata": {}
    }
   ]
  },
  {
   "cell_type": "code",
   "metadata": {
    "cell_id": "00006-9abd8193-18c2-4ff5-be6b-125bc091b912",
    "deepnote_to_be_reexecuted": false,
    "source_hash": "a4aea84e",
    "execution_start": 1628508881306,
    "execution_millis": 3952283,
    "deepnote_cell_type": "code"
   },
   "source": "#as you can see the review was indeed positive\n#the files contain train and test data set .they have 50,000 reviews\n#extract only first 500 0f the reviews and perform logistic regression\n",
   "execution_count": 6,
   "outputs": []
  },
  {
   "cell_type": "code",
   "metadata": {
    "cell_id": "00007-98890f2d-f17f-4c38-aeb2-7b55cc9d7ef5",
    "deepnote_to_be_reexecuted": false,
    "source_hash": "d09231ea",
    "execution_start": 1628508881307,
    "execution_millis": 3952288,
    "deepnote_cell_type": "code"
   },
   "source": "train_labels=train_labels[0:500]",
   "execution_count": 7,
   "outputs": []
  },
  {
   "cell_type": "code",
   "metadata": {
    "cell_id": "00008-f95cf3d3-5055-4979-bc4d-db8c1d46090b",
    "deepnote_to_be_reexecuted": false,
    "source_hash": "52db6e8",
    "execution_start": 1628508881605,
    "execution_millis": 2,
    "deepnote_cell_type": "code"
   },
   "source": "train_texts=train_texts[0:500]",
   "execution_count": 8,
   "outputs": []
  },
  {
   "cell_type": "code",
   "metadata": {
    "tags": [],
    "cell_id": "00009-771cebfc-bec9-4e06-bd38-6bacfbe845c7",
    "deepnote_to_be_reexecuted": false,
    "source_hash": "40c4f8ef",
    "execution_start": 1628508881626,
    "execution_millis": 26,
    "deepnote_cell_type": "code"
   },
   "source": "df = pd.DataFrame({\"labels\": train_labels[0:500], \"reviews\": train_texts[0:500]})\ndf.head(5)",
   "execution_count": 9,
   "outputs": [
    {
     "output_type": "execute_result",
     "execution_count": 9,
     "data": {
      "application/vnd.deepnote.dataframe.v2+json": {
       "row_count": 5,
       "column_count": 2,
       "columns": [
        {
         "name": "labels",
         "dtype": "int64",
         "stats": {
          "unique_count": 1,
          "nan_count": 0,
          "min": "1",
          "max": "1",
          "histogram": [
           {
            "bin_start": 0.5,
            "bin_end": 0.6,
            "count": 0
           },
           {
            "bin_start": 0.6,
            "bin_end": 0.7,
            "count": 0
           },
           {
            "bin_start": 0.7,
            "bin_end": 0.8,
            "count": 0
           },
           {
            "bin_start": 0.8,
            "bin_end": 0.9,
            "count": 0
           },
           {
            "bin_start": 0.9,
            "bin_end": 1,
            "count": 0
           },
           {
            "bin_start": 1,
            "bin_end": 1.1,
            "count": 5
           },
           {
            "bin_start": 1.1,
            "bin_end": 1.2000000000000002,
            "count": 0
           },
           {
            "bin_start": 1.2000000000000002,
            "bin_end": 1.3,
            "count": 0
           },
           {
            "bin_start": 1.3,
            "bin_end": 1.4,
            "count": 0
           },
           {
            "bin_start": 1.4,
            "bin_end": 1.5,
            "count": 0
           }
          ]
         }
        },
        {
         "name": "reviews",
         "dtype": "object",
         "stats": {
          "unique_count": 5,
          "nan_count": 0,
          "categories": [
           {
            "name": "Stuning even for the non-gamer: This sound track was beautiful! It paints the senery in your mind so well I would recomend it even to people who hate vid. game music! I have played the game Chrono Cross but out of all of the games I have ever played it has the best music! It backs away from crude keyboarding and takes a fresher step with grate guitars and soulful orchestras. It would impress anyone who cares to listen! ^_^",
            "count": 1
           },
           {
            "name": "The best soundtrack ever to anything.: I'm reading a lot of reviews saying that this is the best 'game soundtrack' and I figured that I'd write a review to disagree a bit. This in my opinino is Yasunori Mitsuda's ultimate masterpiece. The music is timeless and I'm been listening to it for years now and its beauty simply refuses to fade.The price tag on this is pretty staggering I must say, but if you are going to buy any cd for this much money, this is the only one that I feel would be worth every penny.",
            "count": 1
           },
           {
            "name": "3 others",
            "count": 3
           }
          ]
         }
        },
        {
         "name": "_deepnote_index_column",
         "dtype": "int64"
        }
       ],
       "rows_top": [
        {
         "labels": 1,
         "reviews": "Stuning even for the non-gamer: This sound track was beautiful! It paints the senery in your mind s…",
         "_deepnote_index_column": 0
        },
        {
         "labels": 1,
         "reviews": "The best soundtrack ever to anything.: I'm reading a lot of reviews saying that this is the best 'g…",
         "_deepnote_index_column": 1
        },
        {
         "labels": 1,
         "reviews": "Amazing!: This soundtrack is my favorite music of all time, hands down. The intense sadness of \"Pri…",
         "_deepnote_index_column": 2
        },
        {
         "labels": 1,
         "reviews": "Excellent Soundtrack: I truly like this soundtrack and I enjoy video game music. I have played this…",
         "_deepnote_index_column": 3
        },
        {
         "labels": 1,
         "reviews": "Remember, Pull Your Jaw Off The Floor After Hearing it: If you've played the game, you know how div…",
         "_deepnote_index_column": 4
        }
       ],
       "rows_bottom": null
      },
      "text/plain": "   labels                                            reviews\n0       1  Stuning even for the non-gamer: This sound tra...\n1       1  The best soundtrack ever to anything.: I'm rea...\n2       1  Amazing!: This soundtrack is my favorite music...\n3       1  Excellent Soundtrack: I truly like this soundt...\n4       1  Remember, Pull Your Jaw Off The Floor After He...",
      "text/html": "<div>\n<style scoped>\n    .dataframe tbody tr th:only-of-type {\n        vertical-align: middle;\n    }\n\n    .dataframe tbody tr th {\n        vertical-align: top;\n    }\n\n    .dataframe thead th {\n        text-align: right;\n    }\n</style>\n<table border=\"1\" class=\"dataframe\">\n  <thead>\n    <tr style=\"text-align: right;\">\n      <th></th>\n      <th>labels</th>\n      <th>reviews</th>\n    </tr>\n  </thead>\n  <tbody>\n    <tr>\n      <th>0</th>\n      <td>1</td>\n      <td>Stuning even for the non-gamer: This sound tra...</td>\n    </tr>\n    <tr>\n      <th>1</th>\n      <td>1</td>\n      <td>The best soundtrack ever to anything.: I'm rea...</td>\n    </tr>\n    <tr>\n      <th>2</th>\n      <td>1</td>\n      <td>Amazing!: This soundtrack is my favorite music...</td>\n    </tr>\n    <tr>\n      <th>3</th>\n      <td>1</td>\n      <td>Excellent Soundtrack: I truly like this soundt...</td>\n    </tr>\n    <tr>\n      <th>4</th>\n      <td>1</td>\n      <td>Remember, Pull Your Jaw Off The Floor After He...</td>\n    </tr>\n  </tbody>\n</table>\n</div>"
     },
     "metadata": {}
    }
   ]
  },
  {
   "cell_type": "code",
   "metadata": {
    "tags": [],
    "cell_id": "00010-14a64e86-53f2-441a-8210-96b317b71373",
    "deepnote_to_be_reexecuted": false,
    "source_hash": "a7a886f1",
    "execution_start": 1628508881656,
    "execution_millis": 22,
    "deepnote_cell_type": "code"
   },
   "source": "df = pd.DataFrame({\"labels\": test_labels[0:500], \"reviews\": test_texts[0:500]})\ndf.head(10)",
   "execution_count": 10,
   "outputs": [
    {
     "output_type": "execute_result",
     "execution_count": 10,
     "data": {
      "application/vnd.deepnote.dataframe.v2+json": {
       "row_count": 10,
       "column_count": 2,
       "columns": [
        {
         "name": "labels",
         "dtype": "int64",
         "stats": {
          "unique_count": 2,
          "nan_count": 0,
          "min": "0",
          "max": "1",
          "histogram": [
           {
            "bin_start": 0,
            "bin_end": 0.1,
            "count": 5
           },
           {
            "bin_start": 0.1,
            "bin_end": 0.2,
            "count": 0
           },
           {
            "bin_start": 0.2,
            "bin_end": 0.30000000000000004,
            "count": 0
           },
           {
            "bin_start": 0.30000000000000004,
            "bin_end": 0.4,
            "count": 0
           },
           {
            "bin_start": 0.4,
            "bin_end": 0.5,
            "count": 0
           },
           {
            "bin_start": 0.5,
            "bin_end": 0.6000000000000001,
            "count": 0
           },
           {
            "bin_start": 0.6000000000000001,
            "bin_end": 0.7000000000000001,
            "count": 0
           },
           {
            "bin_start": 0.7000000000000001,
            "bin_end": 0.8,
            "count": 0
           },
           {
            "bin_start": 0.8,
            "bin_end": 0.9,
            "count": 0
           },
           {
            "bin_start": 0.9,
            "bin_end": 1,
            "count": 5
           }
          ]
         }
        },
        {
         "name": "reviews",
         "dtype": "object",
         "stats": {
          "unique_count": 10,
          "nan_count": 0,
          "categories": [
           {
            "name": "Great CD: My lovely Pat has one of the GREAT voices of her generation. I have listened to this CD for YEARS and I still LOVE IT. When I'm in a good mood it makes me feel better. A bad mood just evaporates like sugar in the rain. This CD just oozes LIFE. Vocals are jusat STUUNNING and lyrics just kill. One of life's hidden gems. This is a desert isle CD in my book. Why she never made it big is just beyond me. Everytime I play this, no matter black, white, young, old, male, female EVERYBODY says one thing \"Who was that singing ?\"",
            "count": 1
           },
           {
            "name": "One of the best game music soundtracks - for a game I didn't really play: Despite the fact that I have only played a small portion of the game, the music I heard (plus the connection to Chrono Trigger which was great as well) led me to purchase the soundtrack, and it remains one of my favorite albums. There is an incredible mix of fun, epic, and emotional songs. Those sad and beautiful tracks I especially like, as there's not too many of those kinds of songs in my other video game soundtracks. I must admit that one of the songs (Life-A Distant Promise) has brought tears to my eyes on many occasions.My one complaint about this soundtrack is that they use guitar fretting effects in many of the songs, which I find distracting. But even if those weren't included I would still consider the collection worth it.",
            "count": 1
           },
           {
            "name": "8 others",
            "count": 8
           }
          ]
         }
        },
        {
         "name": "_deepnote_index_column",
         "dtype": "int64"
        }
       ],
       "rows_top": [
        {
         "labels": 1,
         "reviews": "Great CD: My lovely Pat has one of the GREAT voices of her generation. I have listened to this CD f…",
         "_deepnote_index_column": 0
        },
        {
         "labels": 1,
         "reviews": "One of the best game music soundtracks - for a game I didn't really play: Despite the fact that I h…",
         "_deepnote_index_column": 1
        },
        {
         "labels": 0,
         "reviews": "Batteries died within a year ...: I bought this charger in Jul 2003 and it worked OK for a while. T…",
         "_deepnote_index_column": 2
        },
        {
         "labels": 1,
         "reviews": "works fine, but Maha Energy is better: Check out Maha Energy's website. Their Powerex MH-C204F char…",
         "_deepnote_index_column": 3
        },
        {
         "labels": 1,
         "reviews": "Great for the non-audiophile: Reviewed quite a bit of the combo players and was hesitant due to unf…",
         "_deepnote_index_column": 4
        },
        {
         "labels": 0,
         "reviews": "DVD Player crapped out after one year: I also began having the incorrect disc problems that I've re…",
         "_deepnote_index_column": 5
        },
        {
         "labels": 0,
         "reviews": "Incorrect Disc: I love the style of this, but after a couple years, the DVD is giving me problems. …",
         "_deepnote_index_column": 6
        },
        {
         "labels": 0,
         "reviews": "DVD menu select problems: I cannot scroll through a DVD menu that is set up vertically. The triangl…",
         "_deepnote_index_column": 7
        },
        {
         "labels": 1,
         "reviews": "Unique Weird Orientalia from the 1930's: Exotic tales of the Orient from the 1930's. \"Dr Shen Fu\", …",
         "_deepnote_index_column": 8
        },
        {
         "labels": 0,
         "reviews": "Not an \"ultimate guide\": Firstly,I enjoyed the format and tone of the book (how the author addresse…",
         "_deepnote_index_column": 9
        }
       ],
       "rows_bottom": null
      },
      "text/plain": "   labels                                            reviews\n0       1  Great CD: My lovely Pat has one of the GREAT v...\n1       1  One of the best game music soundtracks - for a...\n2       0  Batteries died within a year ...: I bought thi...\n3       1  works fine, but Maha Energy is better: Check o...\n4       1  Great for the non-audiophile: Reviewed quite a...\n5       0  DVD Player crapped out after one year: I also ...\n6       0  Incorrect Disc: I love the style of this, but ...\n7       0  DVD menu select problems: I cannot scroll thro...\n8       1  Unique Weird Orientalia from the 1930's: Exoti...\n9       0  Not an \"ultimate guide\": Firstly,I enjoyed the...",
      "text/html": "<div>\n<style scoped>\n    .dataframe tbody tr th:only-of-type {\n        vertical-align: middle;\n    }\n\n    .dataframe tbody tr th {\n        vertical-align: top;\n    }\n\n    .dataframe thead th {\n        text-align: right;\n    }\n</style>\n<table border=\"1\" class=\"dataframe\">\n  <thead>\n    <tr style=\"text-align: right;\">\n      <th></th>\n      <th>labels</th>\n      <th>reviews</th>\n    </tr>\n  </thead>\n  <tbody>\n    <tr>\n      <th>0</th>\n      <td>1</td>\n      <td>Great CD: My lovely Pat has one of the GREAT v...</td>\n    </tr>\n    <tr>\n      <th>1</th>\n      <td>1</td>\n      <td>One of the best game music soundtracks - for a...</td>\n    </tr>\n    <tr>\n      <th>2</th>\n      <td>0</td>\n      <td>Batteries died within a year ...: I bought thi...</td>\n    </tr>\n    <tr>\n      <th>3</th>\n      <td>1</td>\n      <td>works fine, but Maha Energy is better: Check o...</td>\n    </tr>\n    <tr>\n      <th>4</th>\n      <td>1</td>\n      <td>Great for the non-audiophile: Reviewed quite a...</td>\n    </tr>\n    <tr>\n      <th>5</th>\n      <td>0</td>\n      <td>DVD Player crapped out after one year: I also ...</td>\n    </tr>\n    <tr>\n      <th>6</th>\n      <td>0</td>\n      <td>Incorrect Disc: I love the style of this, but ...</td>\n    </tr>\n    <tr>\n      <th>7</th>\n      <td>0</td>\n      <td>DVD menu select problems: I cannot scroll thro...</td>\n    </tr>\n    <tr>\n      <th>8</th>\n      <td>1</td>\n      <td>Unique Weird Orientalia from the 1930's: Exoti...</td>\n    </tr>\n    <tr>\n      <th>9</th>\n      <td>0</td>\n      <td>Not an \"ultimate guide\": Firstly,I enjoyed the...</td>\n    </tr>\n  </tbody>\n</table>\n</div>"
     },
     "metadata": {}
    }
   ]
  },
  {
   "cell_type": "code",
   "metadata": {
    "cell_id": "00009-905b1050-d3bc-46ab-9094-31d4d42b6161",
    "deepnote_to_be_reexecuted": false,
    "source_hash": "8dd9d73f",
    "execution_start": 1628508881665,
    "execution_millis": 3,
    "deepnote_cell_type": "code"
   },
   "source": "#text pre-processing\n#convert capital to small letter. remove special charachters like .,!^_^ etc.",
   "execution_count": 11,
   "outputs": []
  },
  {
   "cell_type": "code",
   "metadata": {
    "cell_id": "00010-2a2b2af5-9977-4d26-9115-c2111d733f2f",
    "deepnote_to_be_reexecuted": false,
    "source_hash": "4f6d752f",
    "execution_start": 1628508881673,
    "execution_millis": 13559,
    "deepnote_cell_type": "code"
   },
   "source": "import re  # re= regular expressions\nNON_ALPHANUM = re.compile(r'[\\W]')          # extract capital letters and charachters that are not alphanumeric\nNON_ASCII = re.compile(r'[^a-z0-1\\s]')      # similarly create regular expression method to extract small letters a-z and numbers 0-1 and some punctuation marks are stored in non ascii var\ndef normalize_texts(texts):                 #create method\n    normalized_texts = []                   # initialise empty list\n    for text in texts:                      #for each review/text do the following\n        lower = text.lower()                 # covert entire review to lower case\n        no_punctuation = NON_ALPHANUM.sub(r' ', lower)  #substitute non alphanumeric char with a space\n        no_non_ascii = NON_ASCII.sub(r'', no_punctuation) # substitute non ascii charachters with blank or space\n        normalized_texts.append(no_non_ascii) # append this preprocessed or review without non_ascii charachters to the list normalised texts\n    return normalized_texts                    # return this normalised review (without capital and special char)\n \n#call method on train_texts and test_texts\ntrain_texts = normalize_texts(train_texts)\ntest_texts = normalize_texts(test_texts)       # now train_texta and test_tests have reviews(without capital and special char)\n",
   "execution_count": 12,
   "outputs": []
  },
  {
   "cell_type": "code",
   "metadata": {
    "cell_id": "00011-3164400b-4437-4040-a64c-ee815e278be1",
    "deepnote_to_be_reexecuted": false,
    "source_hash": "214664b4",
    "execution_start": 1628508895236,
    "execution_millis": 8,
    "deepnote_cell_type": "code"
   },
   "source": "train_texts[0]",
   "execution_count": 13,
   "outputs": [
    {
     "output_type": "execute_result",
     "execution_count": 13,
     "data": {
      "text/plain": "'stuning even for the non gamer  this sound track was beautiful  it paints the senery in your mind so well i would recomend it even to people who hate vid  game music  i have played the game chrono cross but out of all of the games i have ever played it has the best music  it backs away from crude keyboarding and takes a fresher step with grate guitars and soulful orchestras  it would impress anyone who cares to listen    '"
     },
     "metadata": {}
    }
   ]
  },
  {
   "cell_type": "code",
   "metadata": {
    "cell_id": "00012-9637c3a5-383a-4f93-a72b-a1f084c9b523",
    "deepnote_to_be_reexecuted": false,
    "source_hash": "81051442",
    "execution_start": 1628508895290,
    "execution_millis": 3952011,
    "deepnote_cell_type": "code"
   },
   "source": "#now you can see the difference between ouput[7] and output[11]. capital letters are made into small letters and special charachters are substituted by space",
   "execution_count": 14,
   "outputs": []
  },
  {
   "cell_type": "code",
   "metadata": {
    "cell_id": "00013-85f8ee48-6aff-4075-835b-35c1cb90fdcb",
    "deepnote_to_be_reexecuted": false,
    "source_hash": "9ac1e399",
    "execution_start": 1628508895292,
    "execution_millis": 3952011,
    "deepnote_cell_type": "code"
   },
   "source": "# now to build themodel and predict the test set what to do?\n#convert this text to numeric charachters. computer/NLP/Sentiment analysis model cant understand textual data so \n# we will convert the textual data to some numeric form called count vector\n# we use countvectorizer method",
   "execution_count": 15,
   "outputs": []
  },
  {
   "cell_type": "code",
   "metadata": {
    "cell_id": "00014-8a56c5e3-ecd5-4f80-96c2-6628d9c08301",
    "deepnote_to_be_reexecuted": false,
    "source_hash": "25ba8117",
    "execution_start": 1628508895293,
    "execution_millis": 24422,
    "deepnote_cell_type": "code"
   },
   "source": "from sklearn.feature_extraction.text import CountVectorizer      #import countvectorizer\n\ncv = CountVectorizer(binary=True)     # the entire text is only converted to 0 or 1 (binary) this is stored in the object called cv\ncv.fit(train_texts)                   # fit this count vectoriser to the training text\nX = cv.transform(train_texts)          # transform training set. store it in X\nX_test = cv.transform(test_texts)     # transform testing set. store it in X_test\n\n#eg label=stuning occurs 1 time in the output 11(review 0)\n#   label=it count=5 this how count vectoriser works",
   "execution_count": 16,
   "outputs": []
  },
  {
   "cell_type": "code",
   "metadata": {
    "cell_id": "00015-258180df-beb0-4010-9233-cd0c0d4adb74",
    "deepnote_to_be_reexecuted": false,
    "source_hash": "ecd43b9e",
    "execution_start": 1628508919716,
    "execution_millis": 20,
    "deepnote_cell_type": "code"
   },
   "source": "#X_test will look like this:\nX_test",
   "execution_count": 17,
   "outputs": [
    {
     "output_type": "execute_result",
     "execution_count": 17,
     "data": {
      "text/plain": "<400000x5778 sparse matrix of type '<class 'numpy.int64'>'\n\twith 18647020 stored elements in Compressed Sparse Row format>"
     },
     "metadata": {}
    }
   ]
  },
  {
   "cell_type": "code",
   "metadata": {
    "cell_id": "00016-d2689b94-19ea-4071-b8d8-4d57bcfe8602",
    "deepnote_to_be_reexecuted": false,
    "source_hash": "e517e717",
    "execution_start": 1628509322242,
    "execution_millis": 21,
    "deepnote_cell_type": "code"
   },
   "source": "#now build the logistic regression model on top of this\n\nfrom sklearn.linear_model import LogisticRegression    #import Logistic Regression\nfrom sklearn.metrics import accuracy_score              # check its accuracy\nfrom sklearn.model_selection import train_test_split    #divide data into training and testing set\n\n\n#to divide the data into trainig and testing set: use train_test_split method. \n#parameters are training set\n#independant variables are: X dependant variables are: train_labels and train_size=0.75 (i.e. 75% of data goes to training set and rest 25% goes to test set)\n\nX_train, X_val, y_train, y_val = train_test_split(       \n    X, train_labels, train_size = 0.75, random_state=6\n)\n\n#C ( here c is capital) value means: by how much do we want to regularise the model on to the data\n#as C increases regularisation increases\n# we are building the logistic regression model in this for loop\n\nfor c in [0.01, 0.05]:\n    \n    lr = LogisticRegression(C=c)                             #build logisticregression with c value 0.01 at first\n    lr.fit(X_train, y_train)                                 #fit this logistic regression model on train set\n    print (\"Accuracy for C=%s: %s\" \n           % (c, accuracy_score(y_val, lr.predict(X_val))))    #check the accuracy on top of the validation set here\n    ",
   "execution_count": 29,
   "outputs": [
    {
     "name": "stdout",
     "text": "Accuracy for C=0.01: 0.832\nAccuracy for C=0.05: 0.864\n",
     "output_type": "stream"
    }
   ]
  },
  {
   "cell_type": "code",
   "metadata": {
    "cell_id": "00017-545a0ba9-7484-40d8-b187-07aab8ae829c",
    "deepnote_to_be_reexecuted": false,
    "source_hash": "da82f3d3",
    "execution_start": 1628509361999,
    "execution_millis": 1,
    "deepnote_cell_type": "code"
   },
   "source": "# observation: accuracy increases as regularisation(C value) increases\n# when C value is 1(highest) the accuracy is highest on top of the validation data set\n# so we take the value of C to be perfect",
   "execution_count": 30,
   "outputs": []
  },
  {
   "cell_type": "code",
   "metadata": {
    "cell_id": "00018-54183d2c-97ec-4b4b-9125-df0feeceff10",
    "deepnote_to_be_reexecuted": false,
    "source_hash": "3e831213",
    "execution_start": 1628509363672,
    "execution_millis": 17,
    "deepnote_cell_type": "code"
   },
   "source": "# since we have fit the model on top of the training set we are going to\n# start predicting the values on top of the test set using lr.predict\n#lets predict on the 29th review\nlr.predict(X_test[29])",
   "execution_count": 31,
   "outputs": [
    {
     "output_type": "execute_result",
     "execution_count": 31,
     "data": {
      "text/plain": "array([0])"
     },
     "metadata": {}
    }
   ]
  },
  {
   "cell_type": "code",
   "metadata": {
    "cell_id": "00019-6352935d-a172-4095-bc03-b2b1f5576b0d",
    "deepnote_to_be_reexecuted": false,
    "source_hash": "4d95ddcc",
    "execution_start": 1628509365910,
    "execution_millis": 8,
    "deepnote_cell_type": "code"
   },
   "source": "test_labels[29]",
   "execution_count": 32,
   "outputs": [
    {
     "output_type": "execute_result",
     "execution_count": 32,
     "data": {
      "text/plain": "0"
     },
     "metadata": {}
    }
   ]
  },
  {
   "cell_type": "code",
   "metadata": {
    "cell_id": "00020-546f423d-d568-4cfa-8674-ac8cc93922cd",
    "deepnote_to_be_reexecuted": false,
    "source_hash": "256d437a",
    "execution_start": 1628509368801,
    "execution_millis": 4,
    "deepnote_cell_type": "code"
   },
   "source": "# you can see that the actual/observed/expected value (ouput 16) = predicted value(ouput 15)\n#so the model is working descently\n#0 means negative 1 means positive\n#let us see the actual review:",
   "execution_count": 33,
   "outputs": []
  },
  {
   "cell_type": "code",
   "metadata": {
    "cell_id": "00021-b94da5e8-4998-4d49-b772-5c491de75222",
    "deepnote_to_be_reexecuted": false,
    "source_hash": "30333e2",
    "execution_start": 1628509370448,
    "execution_millis": 8,
    "deepnote_cell_type": "code"
   },
   "source": "test_texts[29]",
   "execution_count": 34,
   "outputs": [
    {
     "output_type": "execute_result",
     "execution_count": 34,
     "data": {
      "text/plain": "'three days of use and it broke  very disappointed in this product  it worked perfectly for exactly three days and could not be resuscitated  it was very inexpensive so i did not want to pay half again the price to ship it back for an exchange  so the company would do nothing when they sent me an inquiry as to product satisfaction '"
     },
     "metadata": {}
    }
   ]
  },
  {
   "cell_type": "code",
   "metadata": {
    "cell_id": "00022-95820712-515b-4545-b05b-5dd29c7441cd",
    "deepnote_to_be_reexecuted": false,
    "source_hash": "5470bb15",
    "execution_start": 1628509372611,
    "execution_millis": 3,
    "deepnote_cell_type": "code"
   },
   "source": "# the above review is indeed negative as we have already predicted\n# you can build this more by using:\n# neural nw, cnn,rnn,decisiontree,randomforest,other classifiers:nybase etc on top of this.",
   "execution_count": 35,
   "outputs": []
  },
  {
   "cell_type": "code",
   "metadata": {
    "tags": [],
    "cell_id": "00023-fad03e1e-f81b-4588-82bb-d6c02562a591",
    "deepnote_to_be_reexecuted": false,
    "source_hash": "20fe8ffa",
    "execution_start": 1628509374571,
    "execution_millis": 147,
    "deepnote_cell_type": "code"
   },
   "source": "#scatter Graph for predicted class label(0 as negative sentiment 1 as positive sentiment)\n\nreviewnum=list(range(0,15))\nplt.scatter(reviewnum,lr.predict(X_test[0:15]))\nplt.xlabel('Review number')\nplt.ylabel('Sentiment')\nplt.title('Sentiment analysis')",
   "execution_count": 36,
   "outputs": [
    {
     "output_type": "execute_result",
     "execution_count": 36,
     "data": {
      "text/plain": "Text(0.5, 1.0, 'Sentiment analysis')"
     },
     "metadata": {}
    },
    {
     "data": {
      "text/plain": "<Figure size 432x288 with 1 Axes>",
      "image/png": "[encoded data removed]"
     },
     "metadata": {
      "needs_background": "light",
      "image/png": {
       "width": 386,
       "height": 278
      }
     },
     "output_type": "display_data"
    }
   ]
  },
  {
   "cell_type": "code",
   "metadata": {
    "tags": [],
    "cell_id": "00024-1c24b40d-d433-4a8f-91a4-4fa1e6343ca9",
    "deepnote_to_be_reexecuted": false,
    "source_hash": "d3b34495",
    "execution_start": 1628509378497,
    "execution_millis": 165,
    "deepnote_cell_type": "code"
   },
   "source": "#scatter Graph for the actual class label(0 as negative sentiment 1 as positive sentiment)\n\nreviewnum=list(range(15))\nplt.scatter(reviewnum,test_labels[0:15])\nplt.xlabel('Review number')\nplt.ylabel('Sentiment')\nplt.title('Sentiment analysis')",
   "execution_count": 37,
   "outputs": [
    {
     "output_type": "execute_result",
     "execution_count": 37,
     "data": {
      "text/plain": "Text(0.5, 1.0, 'Sentiment analysis')"
     },
     "metadata": {}
    },
    {
     "data": {
      "text/plain": "<Figure size 432x288 with 1 Axes>",
      "image/png": "[encoded data removed]"
     },
     "metadata": {
      "needs_background": "light",
      "image/png": {
       "width": 386,
       "height": 278
      }
     },
     "output_type": "display_data"
    }
   ]
  },
  {
   "cell_type": "code",
   "metadata": {
    "tags": [],
    "cell_id": "00025-a9151386-3684-41a0-bbb6-a93d0047d2f1",
    "deepnote_to_be_reexecuted": false,
    "source_hash": "8b72d197",
    "execution_start": 1628509383180,
    "execution_millis": 238,
    "deepnote_cell_type": "code"
   },
   "source": "#Pie chart for the predicted sentiment\n\n\nlabels = 'positive', 'negative'\n\npredictedvalue=lr.predict(X_test[0:500])\npositive=0;\nnegative=0;\nfor i in predictedvalue:\n    if i==1:\n        positive+=1\n    else:\n        negative+=1\n\nsizes = [positive, negative]\ncolors = ['green', 'red']\nexplode = (0, 0)  # explode no slice\n\n# Plot\nplt.pie(sizes, explode=explode, labels=labels, colors=colors,\nautopct='%1.1f%%', shadow=True, startangle=140)\n\nplt.axis('equal')\nplt.show()",
   "execution_count": 38,
   "outputs": [
    {
     "data": {
      "text/plain": "<Figure size 432x288 with 1 Axes>",
      "image/png": "[encoded data removed]"
     },
     "metadata": {
      "image/png": {
       "width": 349,
       "height": 231
      }
     },
     "output_type": "display_data"
    }
   ]
  },
  {
   "cell_type": "code",
   "metadata": {
    "tags": [],
    "cell_id": "00026-c1a29725-064f-4054-b848-e3aea0f1c41b",
    "deepnote_to_be_reexecuted": false,
    "source_hash": "89b742c5",
    "execution_start": 1628509387191,
    "execution_millis": 115,
    "deepnote_cell_type": "code"
   },
   "source": "#Pie chart for the actual sentiment\n\n\nlabels = 'positive', 'negative'\n\nactualvalue=test_labels[0:500]\npositive=0;\nnegative=0;\nfor i in actualvalue:\n    if i==1:\n        positive+=1\n    else:\n        negative+=1\n\nsizes = [positive, negative]\ncolors = ['green', 'red']\nexplode = (0, 0)  # explode no slice\n\n# Plot\nplt.pie(sizes, explode=explode, labels=labels, colors=colors,\nautopct='%1.1f%%', shadow=True, startangle=140)\n\nplt.axis('equal')\nplt.show()",
   "execution_count": 39,
   "outputs": [
    {
     "data": {
      "text/plain": "<Figure size 432x288 with 1 Axes>",
      "image/png": "[encoded data removed]"
     },
     "metadata": {
      "image/png": {
       "width": 349,
       "height": 231
      }
     },
     "output_type": "display_data"
    }
   ]
  },
  {
   "cell_type": "markdown",
   "source": "<a style='text-decoration:none;line-height:16px;display:flex;color:#5B5B62;padding:10px;justify-content:end;' href='https://deepnote.com?utm_source=created-in-deepnote-cell&projectId=d611ce83-46e4-4a42-b601-819324222ef9' target=\"_blank\">\n<img alt='Created in deepnote.com' style='display:inline;max-height:16px;margin:0px;margin-right:7.5px;' src='data:image/svg+xml;base64,PD94bWwgdmVyc2lvbj0iMS4wIiBlbmNvZGluZz0iVVRGLTgiPz4KPHN2ZyB3aWR0aD0iODBweCIgaGVpZ2h0PSI4MHB4IiB2aWV3Qm94PSIwIDAgODAgODAiIHZlcnNpb249IjEuMSIgeG1sbnM9Imh0dHA6Ly93d3cudzMub3JnLzIwMDAvc3ZnIiB4bWxuczp4bGluaz0iaHR0cDovL3d3dy53My5vcmcvMTk5OS94bGluayI+CiAgICA8IS0tIEdlbmVyYXRvcjogU2tldGNoIDU0LjEgKDc2NDkwKSAtIGh0dHBzOi8vc2tldGNoYXBwLmNvbSAtLT4KICAgIDx0aXRsZT5Hcm91cCAzPC90aXRsZT4KICAgIDxkZXNjPkNyZWF0ZWQgd2l0aCBTa2V0Y2guPC9kZXNjPgogICAgPGcgaWQ9IkxhbmRpbmciIHN0cm9rZT0ibm9uZSIgc3Ryb2tlLXdpZHRoPSIxIiBmaWxsPSJub25lIiBmaWxsLXJ1bGU9ImV2ZW5vZGQiPgogICAgICAgIDxnIGlkPSJBcnRib2FyZCIgdHJhbnNmb3JtPSJ0cmFuc2xhdGUoLTEyMzUuMDAwMDAwLCAtNzkuMDAwMDAwKSI+CiAgICAgICAgICAgIDxnIGlkPSJHcm91cC0zIiB0cmFuc2Zvcm09InRyYW5zbGF0ZSgxMjM1LjAwMDAwMCwgNzkuMDAwMDAwKSI+CiAgICAgICAgICAgICAgICA8cG9seWdvbiBpZD0iUGF0aC0yMCIgZmlsbD0iIzAyNjVCNCIgcG9pbnRzPSIyLjM3NjIzNzYyIDgwIDM4LjA0NzY2NjcgODAgNTcuODIxNzgyMiA3My44MDU3NTkyIDU3LjgyMTc4MjIgMzIuNzU5MjczOSAzOS4xNDAyMjc4IDMxLjY4MzE2ODMiPjwvcG9seWdvbj4KICAgICAgICAgICAgICAgIDxwYXRoIGQ9Ik0zNS4wMDc3MTgsODAgQzQyLjkwNjIwMDcsNzYuNDU0OTM1OCA0Ny41NjQ5MTY3LDcxLjU0MjI2NzEgNDguOTgzODY2LDY1LjI2MTk5MzkgQzUxLjExMjI4OTksNTUuODQxNTg0MiA0MS42NzcxNzk1LDQ5LjIxMjIyODQgMjUuNjIzOTg0Niw0OS4yMTIyMjg0IEMyNS40ODQ5Mjg5LDQ5LjEyNjg0NDggMjkuODI2MTI5Niw0My4yODM4MjQ4IDM4LjY0NzU4NjksMzEuNjgzMTY4MyBMNzIuODcxMjg3MSwzMi41NTQ0MjUgTDY1LjI4MDk3Myw2Ny42NzYzNDIxIEw1MS4xMTIyODk5LDc3LjM3NjE0NCBMMzUuMDA3NzE4LDgwIFoiIGlkPSJQYXRoLTIyIiBmaWxsPSIjMDAyODY4Ij48L3BhdGg+CiAgICAgICAgICAgICAgICA8cGF0aCBkPSJNMCwzNy43MzA0NDA1IEwyNy4xMTQ1MzcsMC4yNTcxMTE0MzYgQzYyLjM3MTUxMjMsLTEuOTkwNzE3MDEgODAsMTAuNTAwMzkyNyA4MCwzNy43MzA0NDA1IEM4MCw2NC45NjA0ODgyIDY0Ljc3NjUwMzgsNzkuMDUwMzQxNCAzNC4zMjk1MTEzLDgwIEM0Ny4wNTUzNDg5LDc3LjU2NzA4MDggNTMuNDE4MjY3Nyw3MC4zMTM2MTAzIDUzLjQxODI2NzcsNTguMjM5NTg4NSBDNTMuNDE4MjY3Nyw0MC4xMjg1NTU3IDM2LjMwMzk1NDQsMzcuNzMwNDQwNSAyNS4yMjc0MTcsMzcuNzMwNDQwNSBDMTcuODQzMDU4NiwzNy43MzA0NDA1IDkuNDMzOTE5NjYsMzcuNzMwNDQwNSAwLDM3LjczMDQ0MDUgWiIgaWQ9IlBhdGgtMTkiIGZpbGw9IiMzNzkzRUYiPjwvcGF0aD4KICAgICAgICAgICAgPC9nPgogICAgICAgIDwvZz4KICAgIDwvZz4KPC9zdmc+' > </img>\nCreated in <span style='font-weight:600;margin-left:4px;'>Deepnote</span></a>",
   "metadata": {
    "tags": [],
    "created_in_deepnote_cell": true,
    "deepnote_cell_type": "markdown"
   }
  }
 ],
 "nbformat": 4,
 "nbformat_minor": 4,
 "metadata": {
  "kernelspec": {
   "display_name": "Python 3",
   "language": "python",
   "name": "python3"
  },
  "language_info": {
   "codemirror_mode": {
    "name": "ipython",
    "version": 3
   },
   "file_extension": ".py",
   "mimetype": "text/x-python",
   "name": "python",
   "nbconvert_exporter": "python",
   "pygments_lexer": "ipython3",
   "version": "3.8.5"
  },
  "deepnote_notebook_id": "7e90ea77-3a2d-4ae2-b30c-52edd306fb2b",
  "deepnote": {},
  "deepnote_execution_queue": []
 }
}